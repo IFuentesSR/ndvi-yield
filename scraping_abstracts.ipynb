{
 "cells": [
  {
   "cell_type": "code",
   "execution_count": null,
   "id": "d0b04dfe",
   "metadata": {},
   "outputs": [],
   "source": [
    "from selenium import webdriver\n",
    "from selenium.webdriver.common.keys import Keys\n",
    "from selenium.webdriver.common.by import By\n",
    "from selenium.webdriver.common.action_chains import ActionChains\n",
    "import time\n",
    "import pickle"
   ]
  },
  {
   "cell_type": "code",
   "execution_count": null,
   "id": "fb583552",
   "metadata": {},
   "outputs": [],
   "source": [
    "url = 'https://www.scopus.com/results/results.uri?sort=plf-f&src=s&st1=%22yield%22%2B%22NDVI%22&sid=c0db8cbb4775378e865381b0bb709c7e&sot=b&sdt=b&sl=29&s=TITLE-ABS-KEY%28%22yield%22+%2B+%22NDVI%22%2B%22wheat%22%29&origin=searchbasic&editSaveSearch=&yearFrom=Before+1960&yearTo=Present&sessionSearchId=c0db8cbb4775378e865381b0bb709c7e&limit=10'\n",
    "down_path = \"download_folder\"\n",
    "mail = 'xxx' #use your scopus credentials\n",
    "passw = 'zzz'"
   ]
  },
  {
   "cell_type": "code",
   "execution_count": null,
   "id": "bfe98f6e",
   "metadata": {},
   "outputs": [],
   "source": [
    "## setting profiler preferences \n",
    "\n",
    "profile = webdriver.FirefoxOptions()\n",
    "profile.set_preference(\"browser.download.folderList\", 2)\n",
    "profile.set_preference(\"browser.download.manager.showWhenStarting\", False)\n",
    "profile.set_preference(\"browser.download.dir\", down_path)\n",
    "profile.set_preference(\"browser.helperApps.neverAsk.saveToDisk\", \"application/x-gzip\")"
   ]
  },
  {
   "cell_type": "code",
   "execution_count": null,
   "id": "f2e468e1",
   "metadata": {},
   "outputs": [],
   "source": [
    "## loading driver\n",
    "driver = webdriver.Firefox(profile)\n",
    "driver.get(url)\n",
    "time.sleep(2)"
   ]
  },
  {
   "cell_type": "code",
   "execution_count": null,
   "id": "d06e8387",
   "metadata": {},
   "outputs": [],
   "source": [
    "driver.find_element(By.XPATH,\n",
    "                    '//*[@id=\"onetrust-accept-btn-handler\"]').click()\n",
    "time.sleep(1)\n",
    "\n",
    "driver.find_element(By.XPATH,\n",
    "                    '/html/body/div[1]/section/main/form/div[2]/div').click()\n",
    "driver.find_element(By.XPATH,\n",
    "                    '//*[@id=\"bdd-email\"]').send_keys(mail)\n",
    "\n",
    "driver.find_element(By.XPATH,\n",
    "                    '//*[@id=\"bdd-elsPrimaryBtn\"]').click()\n",
    "time.sleep(2)\n",
    "driver.find_element(By.XPATH,\n",
    "                    '//*[@id=\"bdd-password\"]').click()\n",
    "driver.find_element(By.XPATH,\n",
    "                    '//*[@id=\"bdd-password\"]').send_keys(passw)\n",
    "time.sleep(2)\n",
    "driver.find_element(By.XPATH,\n",
    "                    '//*[@id=\"bdd-elsPrimaryBtn\"]').click()\n",
    "\n",
    "time.sleep(5)\n",
    "\n",
    "driver.execute_script(\"window.scrollTo(0, document.body.scrollHeight);\")\n",
    "\n",
    "time.sleep(2)\n",
    "driver.find_element(By.XPATH,\n",
    "                    '/html/body/div[1]/div/div[1]/div/div/div[3]/micro-ui/document-search-results-page/div[1]/section[2]/div/div[2]/div/div[2]/div/div[2]/div[2]/div/div/label/select').click()\n",
    "time.sleep(2)\n",
    "driver.find_element(By.XPATH, \n",
    "                    '/html/body/div[1]/div/div[1]/div/div/div[3]/micro-ui/document-search-results-page/div[1]/section[2]/div/div[2]/div/div[2]/div/div[2]/div[2]/div/div/label/select/option[5]').click()\n",
    "time.sleep(2)\n",
    "text = driver.find_element(By.XPATH,\n",
    "                           '/html/body/div[1]/div/div[1]/div/div/div[3]/micro-ui/document-search-results-page/div[1]/section[1]/div[3]/div/div/div[1]/h2').text\n",
    "\n",
    "pages = int(int(text[:text.find('document')-1].replace(',', ''))/200 + 1)\n",
    "print(pages)"
   ]
  },
  {
   "cell_type": "code",
   "execution_count": null,
   "id": "43dc3cdb",
   "metadata": {},
   "outputs": [],
   "source": [
    "abstr = []\n",
    "for n in range(pages):\n",
    "    abstracts = driver.find_elements(By.XPATH,\n",
    "                        \"//*[contains(text(), 'Show abstract')]\")\n",
    "    \n",
    "    for n in abstracts:\n",
    "        n.click()\n",
    "        time.sleep(1)\n",
    "    \n",
    "    texts = driver.find_elements(By.CLASS_NAME,\n",
    "                                 'Abstract-module__ukTwj')\n",
    "    \n",
    "    for n in texts:\n",
    "        abstr.append(n.text)\n",
    "        \n",
    "    if n == pages[-1]:\n",
    "        break\n",
    "        \n",
    "    driver.execute_script(\"window.scrollTo(0, document.body.scrollHeight);\")\n",
    "    \n",
    "    driver.find_element(By.XPATH,\n",
    "                        '/html/body/div[1]/div/div[1]/div/div/div[3]/micro-ui/document-search-results-page/div[1]/section[2]/div/div[2]/div/div[2]/div/div[2]/div[2]/div/nav/ul/li[8]/button').click()\n",
    "\n",
    "    time.sleep(5)"
   ]
  },
  {
   "cell_type": "code",
   "execution_count": null,
   "id": "5c58388e",
   "metadata": {},
   "outputs": [],
   "source": [
    "# Saving abstracts\n",
    "with open(down_path+'/abstracts.pkl', 'wb') as f:\n",
    "    pickle.dump(abstr, f)"
   ]
  }
 ],
 "metadata": {
  "kernelspec": {
   "display_name": "Python 3 (ipykernel)",
   "language": "python",
   "name": "python3"
  },
  "language_info": {
   "codemirror_mode": {
    "name": "ipython",
    "version": 3
   },
   "file_extension": ".py",
   "mimetype": "text/x-python",
   "name": "python",
   "nbconvert_exporter": "python",
   "pygments_lexer": "ipython3",
   "version": "3.7.8"
  }
 },
 "nbformat": 4,
 "nbformat_minor": 5
}
